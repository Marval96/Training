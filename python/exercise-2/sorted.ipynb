{
 "cells": [
  {
   "cell_type": "markdown",
   "id": "f6e05b53-93d9-4316-bee5-eb3e90dae5aa",
   "metadata": {
    "tags": []
   },
   "source": [
    "# ***Python: ejercicio 2***"
   ]
  },
  {
   "cell_type": "markdown",
   "id": "b18e60e8-cf12-480a-ac90-c1d1ecc418ee",
   "metadata": {
    "tags": []
   },
   "source": [
    "Aquí se **generan** los números aleatorios"
   ]
  },
  {
   "cell_type": "code",
   "execution_count": 19,
   "id": "5bb7da13-e6d5-41dd-af9a-3842088faa43",
   "metadata": {
    "tags": []
   },
   "outputs": [
    {
     "name": "stdout",
     "output_type": "stream",
     "text": [
      "Los números aleatorios son:\n",
      "[300 919 416 831 405 554 989 806  42 971  42 619  82 786 689 581 178 818\n",
      " 763  70 766 329 375 859 246 589 413 730 496 535  86 731 579 920 241 687\n",
      " 505 223 325 251 141 662 619 395 487 894 572 336 424 459 798  59 940 771\n",
      " 840 134 672 206 179 103 202 773 598 304 842   8 164 843 234 349 292 808\n",
      " 394 488 817 790 143 370 494 410 677 323 131 483 879 581  72 968 178 350\n",
      " 584 666 319 830 449 469 139 425 198  77]\n"
     ]
    }
   ],
   "source": [
    "import numpy as np\n",
    "\n",
    "rng = np.random.default_rng(333)\n",
    "input_random_numbers = rng.integers(low=0, high=10**3, size=10**2)\n",
    "\n",
    "print(\"Los números aleatorios son:\")\n",
    "print(input_random_numbers)"
   ]
  },
  {
   "cell_type": "markdown",
   "id": "b9c736c3-9e34-4cb2-96de-c3f6f3ac24ad",
   "metadata": {},
   "source": [
    "Aquí se **ordenan** los numeros aleatorios:"
   ]
  },
  {
   "cell_type": "code",
   "execution_count": 20,
   "id": "c7598f34-b49c-4c60-aa4e-90814001b1d5",
   "metadata": {
    "tags": []
   },
   "outputs": [
    {
     "name": "stdout",
     "output_type": "stream",
     "text": [
      "EL orden de los números aleatorios es:\n",
      "[  8  42  42  59  70  72  77  82  86 103 131 134 139 141 143 164 178 178\n",
      " 179 198 202 206 223 234 241 246 251 292 300 304 319 323 325 329 336 349\n",
      " 350 370 375 394 395 405 410 413 416 424 425 449 459 469 483 487 488 494\n",
      " 496 505 535 554 572 579 581 581 584 589 598 619 619 662 666 672 677 687\n",
      " 689 730 731 763 766 771 773 786 790 798 806 808 817 818 830 831 840 842\n",
      " 843 859 879 894 919 920 940 968 971 989]\n"
     ]
    }
   ],
   "source": [
    "new = input_random_numbers\n",
    "\n",
    "# Longitud de la lista: n=100=10**2\n",
    "n = len(new)\n",
    "\n",
    "# La lista se recorre a través de n \n",
    "for i in range(n):\n",
    "    \n",
    "    # La lista se recorrer del primer al penúltimo elemento\n",
    "    for j in range(0, n-i-1):\n",
    "        \n",
    "        # Ordena los elementos en orden ascendente comparando uno contra el siguiente\n",
    "        if new[j] > new[j+1]:\n",
    "            new[j], new[j+1] = new[j+1], new[j]\n",
    "\n",
    "# Lista ordenada\n",
    "print(\"EL orden de los números aleatorios es:\")\n",
    "print (new)"
   ]
  },
  {
   "cell_type": "markdown",
   "id": "39344cba-956b-4039-a029-e2b3a5aefe65",
   "metadata": {},
   "source": [
    "Para **corroborar** si los elementos son iguales:"
   ]
  },
  {
   "cell_type": "code",
   "execution_count": 21,
   "id": "57f8081a-f3fb-4df7-9617-0c126622ddcf",
   "metadata": {
    "tags": []
   },
   "outputs": [
    {
     "name": "stdout",
     "output_type": "stream",
     "text": [
      "Cantidad de números aleatorios = 100\n",
      "Cantidad de números ordenados = 100\n"
     ]
    }
   ],
   "source": [
    "#Primero vemos que contengan el mismo número de elementos\n",
    "m = len(input_random_numbers)\n",
    "n = len(new)\n",
    "\n",
    "print (\"Cantidad de números aleatorios =\",m)\n",
    "print (\"Cantidad de números ordenados =\",n)"
   ]
  },
  {
   "cell_type": "code",
   "execution_count": 22,
   "id": "5c02784b-e7e1-46fb-9516-e53bba5eb232",
   "metadata": {
    "tags": []
   },
   "outputs": [
    {
     "name": "stdout",
     "output_type": "stream",
     "text": [
      "Los elementos son iguales\n"
     ]
    }
   ],
   "source": [
    "#Después vemos que esos elementos sean los mismos\n",
    "if m == n:\n",
    "    print(\"Los elementos son iguales\")\n",
    "else:\n",
    "    print(\"Los elementos no son iguales\")"
   ]
  }
 ],
 "metadata": {
  "kernelspec": {
   "display_name": "Python 3 (ipykernel)",
   "language": "python",
   "name": "python3"
  },
  "language_info": {
   "codemirror_mode": {
    "name": "ipython",
    "version": 3
   },
   "file_extension": ".py",
   "mimetype": "text/x-python",
   "name": "python",
   "nbconvert_exporter": "python",
   "pygments_lexer": "ipython3",
   "version": "3.11.3"
  },
  "toc-autonumbering": false
 },
 "nbformat": 4,
 "nbformat_minor": 5
}
