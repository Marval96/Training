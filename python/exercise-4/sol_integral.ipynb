{
 "cells": [
  {
   "cell_type": "markdown",
   "id": "2f2af7f9-d411-4a33-8b5d-089a375a2705",
   "metadata": {},
   "source": [
    "# **Ejercicio 4: Python**"
   ]
  },
  {
   "cell_type": "markdown",
   "id": "75767d15-ac76-4fdb-911c-15425234886c",
   "metadata": {},
   "source": [
    "#### **Tarea 1**\n",
    "Resolviendo la integral: integración númerica *(quad)*\n",
    "Suma de áreas bajo la curva aproximando el valor de una integral fraccionándola en pequeñas   en porciones. \n",
    "\n",
    "> *numpy* es una librería para cálculo númerico\n",
    "\n",
    "> *scipy* es un modúlo que contiene varas herramientas para resolver problemas matemáticos. \n"
   ]
  },
  {
   "cell_type": "code",
   "execution_count": null,
   "id": "0dbe1b36-9ed6-4db1-b5be-00351e37fef2",
   "metadata": {
    "tags": []
   },
   "outputs": [],
   "source": [
    "# Instalación de librerías\n",
    "!pip install numpy\n",
    "!pip install scipy"
   ]
  },
  {
   "cell_type": "markdown",
   "id": "b2c458c6-5c6b-4178-8b09-3155648a65dc",
   "metadata": {},
   "source": [
    "#### **Opción 1:**"
   ]
  },
  {
   "cell_type": "code",
   "execution_count": 7,
   "id": "e962e656-7763-4cbe-9166-4135b0e17a41",
   "metadata": {
    "tags": []
   },
   "outputs": [
    {
     "name": "stdout",
     "output_type": "stream",
     "text": [
      "El valor de la integral es: 0.7071067811865476\n",
      "El error de la integración es: 5.860638163326546e-10\n"
     ]
    }
   ],
   "source": [
    "# Llamado de librerías\n",
    "\n",
    "import numpy as np\n",
    "from scipy.integrate import quad\n",
    "\n",
    "# Función a integrar\n",
    "def integrand(x):\n",
    "    return (1/np.sqrt(2*np.pi)) * np.exp(-x**2)\n",
    "\n",
    "# Límites de integración\n",
    "inferior = -7\n",
    "superior = 7\n",
    "\n",
    "# Integración numérica de la función integrand(x)\n",
    "resultado, error = quad(integrand, inferior, superior)\n",
    "\n",
    "# Resultado\n",
    "print(\"El valor de la integral es:\", resultado)\n",
    "print(\"El error de la integración es:\", error)\n"
   ]
  },
  {
   "cell_type": "markdown",
   "id": "16e2656f-b3fc-4dac-9d81-ac28fb7bdb69",
   "metadata": {},
   "source": [
    "#### **Opción 2:**"
   ]
  },
  {
   "cell_type": "code",
   "execution_count": 6,
   "id": "8ca3774a-4901-4c7b-81ac-b0a93bcc7e70",
   "metadata": {
    "tags": []
   },
   "outputs": [
    {
     "name": "stdout",
     "output_type": "stream",
     "text": [
      "El valor aproximado de la integral es: 0.7071067811865241\n"
     ]
    }
   ],
   "source": [
    "# Función a integrar\n",
    "def integrand(x):\n",
    "    return (1/np.sqrt(2*np.pi)) * np.exp(-x**2)\n",
    "\n",
    "# Límites de integración\n",
    "inferior = -7\n",
    "superior = 7\n",
    "\n",
    "# Definimos el número de rectángulos (intervalos) para la aporximación númerica\n",
    "# A mayor número habŕa una mayor precisión pero también se requirirá una mayor cantidad de recursos.\n",
    "num_rectangles = 100000\n",
    "\n",
    "# Ancho de los rectángulos\n",
    "width = (superior - inferior) / num_rectangles\n",
    "\n",
    "# Suma de áreas de los rectángulos\n",
    "area_sum = 0\n",
    "\n",
    "# Iteramos sobre cada rectángulo\n",
    "for tramo in range(num_rectangles):\n",
    "    # Altura del rectángulo por la izquierda\n",
    "    x = inferior + tramo * width\n",
    "    height = integrand(x)\n",
    "    \n",
    "    # Área del rectángulo\n",
    "    area = width * height\n",
    "    \n",
    "    # Suma de las áreas de los rectángulos\n",
    "    area_sum += area\n",
    "\n",
    "# Resultado\n",
    "print(\"El valor aproximado de la integral es:\", area_sum)\n"
   ]
  },
  {
   "cell_type": "markdown",
   "id": "4c840bf7-4ed5-41d4-9cc8-c2e2fb2b3714",
   "metadata": {},
   "source": [
    "#### **¿Es lo mismo resolver por izquierda que por derecha?**\n",
    "#### **No, no es lo mismo.**\n",
    "Comparativa de las aproximaciones: "
   ]
  },
  {
   "cell_type": "code",
   "execution_count": 5,
   "id": "5c8b2444-3a6f-4b23-a139-d98214c1cd90",
   "metadata": {
    "tags": []
   },
   "outputs": [
    {
     "name": "stdout",
     "output_type": "stream",
     "text": [
      "Aproximación por el método del punto izquierdo: 0.7071067811865241\n",
      "Aproximación por el método del punto derecho: 2.92825226740028e-21\n"
     ]
    }
   ],
   "source": [
    "# Función a integrar\n",
    "def integrand(x):\n",
    "    return (1/np.sqrt(2*np.pi)) * np.exp(-x**2)\n",
    "\n",
    "# Límites de integración\n",
    "inferior = -7\n",
    "superior = 7\n",
    "\n",
    "# Número de rectángulos\n",
    "num_rectangles = 100000\n",
    "\n",
    "# Ancho de cada rectángulo\n",
    "width = (superior - inferior) / num_rectangles\n",
    "\n",
    "# Suma del área de los rectángulos (izquierda)\n",
    "area_sum_left = 0\n",
    "\n",
    "# Suma del áreas de los rectángulos (derecha)\n",
    "area_sum_right = 0\n",
    "\n",
    "# Por izquierda\n",
    "for tramo in range(num_rectangles):\n",
    "    # Altura del rectángulo\n",
    "    x_left = inferior + tramo * width\n",
    "    height_left = integrand(x_left)\n",
    "    \n",
    "    # Área del rectángulo y suma\n",
    "    area_left = width * height_left\n",
    "    area_sum_left += area_left\n",
    "\n",
    "# Por derecha \n",
    "for i in range(num_rectangles):\n",
    "    # Altura del rectángulo \n",
    "    x_right = inferior + (tramo + 1) * width\n",
    "    height_right = integrand(x_right)\n",
    "    \n",
    "    # Área del rectángulo y suma\n",
    "    area_right = width * height_right\n",
    "    area_sum_right += area_right\n",
    "\n",
    "# Resultados\n",
    "print(\"Aproximación por el método del punto izquierdo:\", area_sum_left)\n",
    "print(\"Aproximación por el método del punto derecho:\", area_sum_right)\n"
   ]
  },
  {
   "cell_type": "markdown",
   "id": "9500e20b-2940-490a-bff7-e64d4a4c63a8",
   "metadata": {},
   "source": [
    "#### **Tarea 2 y 3**\n",
    "Las integrales de múltiples dimesiones son más complejas y exigen una mayor cantidad de cálculos y recursos para su resolución. Tan es así que por método de cuadratura adaptativa reduje a las dimensiones a 3.  El método del apartado 1 (rectángulo) no es adecuado para múltiples dimensiones pero también se pueden resolver con el método de Monte Carlo."
   ]
  },
  {
   "cell_type": "markdown",
   "id": "a81bdb14-0c70-4b4f-b6da-ad163044620a",
   "metadata": {
    "tags": []
   },
   "source": [
    "**Métdo de la Cuadratura Adaptativa**"
   ]
  },
  {
   "cell_type": "code",
   "execution_count": 13,
   "id": "9e9db561-219a-4b45-9e12-3d63ea4f82aa",
   "metadata": {
    "tags": []
   },
   "outputs": [
    {
     "name": "stdout",
     "output_type": "stream",
     "text": [
      "El valor de la integral en 3 dimensiones es: 2.2214414690301583\n",
      "El error de la integración es: 0.00027813770299101037\n"
     ]
    }
   ],
   "source": [
    "# Importar librerías\n",
    "import numpy as np\n",
    "from scipy import integrate\n",
    "\n",
    "# Función a integrar en n dimensiones\n",
    "def integrand(x1, x2, x3):\n",
    "    x = np.array([x1, x2, x3])\n",
    "    return (1/np.sqrt(2*np.pi)) * np.exp(-np.sum(x**2))\n",
    "\n",
    "# Límites de integración para cada dimensión\n",
    "limits = [(-7, 7)] * 3\n",
    "\n",
    "# Definimos la tolerancia deseada\n",
    "tolerance = 1e-3\n",
    "\n",
    "# Función para la cuadratura adaptativa\n",
    "def adaptive_quad(func, limits):\n",
    "    result, error = integrate.nquad(func, limits, opts={'epsabs': tolerance})\n",
    "    return result, error\n",
    "\n",
    "# Calculando con la cuadratura adaptativa\n",
    "result, error = adaptive_quad(integrand, limits)\n",
    "\n",
    "# Resultado\n",
    "print(\"El valor de la integral en 3 dimensiones es:\", result)\n",
    "print(\"El error de la integración es:\", error)"
   ]
  },
  {
   "cell_type": "markdown",
   "id": "6ae99237-55a3-4477-9ffa-345b60c4ad0a",
   "metadata": {
    "tags": []
   },
   "source": [
    "**Método de Monte Carlo**"
   ]
  },
  {
   "cell_type": "code",
   "execution_count": 15,
   "id": "c28b944d-95bb-4fbd-9ed2-3de9ed43bb23",
   "metadata": {
    "tags": []
   },
   "outputs": [
    {
     "name": "stdout",
     "output_type": "stream",
     "text": [
      "Aproximación de la integral: 379287.8773673321\n"
     ]
    }
   ],
   "source": [
    "# Integrar en seis dimensiones\n",
    "def integrand(x):\n",
    "    return (1/np.sqrt(2*np.pi)) * np.exp(-x**2)\n",
    "\n",
    "# Límites de integración para cada dimensión\n",
    "limits = [(-7, 7)] * 6\n",
    "\n",
    "# Puntos a generar para el método de Monte Carlo\n",
    "num_points = 100000\n",
    "\n",
    "# Puntos aleatorios en el espacio de integración\n",
    "points = np.random.uniform(low=[limit[0] for limit in limits], high=[limit[1] for limit in limits], \n",
    "                           size=(num_points, len(limits)))\n",
    "\n",
    "# Función en los puntos generados\n",
    "values = integrand(points.T)\n",
    "\n",
    "# Espacio de integración\n",
    "volume = np.prod([limit[1] - limit[0] for limit in limits])\n",
    "\n",
    "# método de Monte Carlo\n",
    "integral_approximation = volume * np.mean(values)\n",
    "\n",
    "# Resultado\n",
    "print(\"Aproximación de la integral:\", integral_approximation)\n"
   ]
  }
 ],
 "metadata": {
  "kernelspec": {
   "display_name": "Python 3 (ipykernel)",
   "language": "python",
   "name": "python3"
  },
  "language_info": {
   "codemirror_mode": {
    "name": "ipython",
    "version": 3
   },
   "file_extension": ".py",
   "mimetype": "text/x-python",
   "name": "python",
   "nbconvert_exporter": "python",
   "pygments_lexer": "ipython3",
   "version": "3.11.3"
  }
 },
 "nbformat": 4,
 "nbformat_minor": 5
}
